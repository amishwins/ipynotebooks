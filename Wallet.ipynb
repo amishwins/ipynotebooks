{
 "metadata": {
  "name": "Wallet"
 },
 "nbformat": 3,
 "nbformat_minor": 0,
 "worksheets": [
  {
   "cells": [
    {
     "cell_type": "code",
     "collapsed": false,
     "input": [
      "import math\n",
      "help(math.sqrt)"
     ],
     "language": "python",
     "metadata": {},
     "outputs": [
      {
       "output_type": "stream",
       "stream": "stdout",
       "text": [
        "Help on built-in function sqrt in module math:\n",
        "\n",
        "sqrt(...)\n",
        "    sqrt(x)\n",
        "    \n",
        "    Return the square root of x.\n",
        "\n"
       ]
      }
     ],
     "prompt_number": 176
    },
    {
     "cell_type": "code",
     "collapsed": false,
     "input": [
      "'c' in 'abc'"
     ],
     "language": "python",
     "metadata": {},
     "outputs": [
      {
       "output_type": "pyout",
       "prompt_number": 177,
       "text": [
        "True"
       ]
      }
     ],
     "prompt_number": 177
    },
    {
     "cell_type": "code",
     "collapsed": false,
     "input": [
      "s = \"learn to program\""
     ],
     "language": "python",
     "metadata": {},
     "outputs": [],
     "prompt_number": 178
    },
    {
     "cell_type": "code",
     "collapsed": false,
     "input": [
      "s[0:]"
     ],
     "language": "python",
     "metadata": {},
     "outputs": [
      {
       "output_type": "pyout",
       "prompt_number": 179,
       "text": [
        "'learn to program'"
       ]
      }
     ],
     "prompt_number": 179
    },
    {
     "cell_type": "code",
     "collapsed": false,
     "input": [
      "s[-3:]"
     ],
     "language": "python",
     "metadata": {},
     "outputs": [
      {
       "output_type": "pyout",
       "prompt_number": 180,
       "text": [
        "'ram'"
       ]
      }
     ],
     "prompt_number": 180
    },
    {
     "cell_type": "code",
     "collapsed": false,
     "input": [
      "s = s[:5] + 'ed' + s[5:]"
     ],
     "language": "python",
     "metadata": {},
     "outputs": [],
     "prompt_number": 181
    },
    {
     "cell_type": "code",
     "collapsed": false,
     "input": [
      "wr = \"Hi there dUde\""
     ],
     "language": "python",
     "metadata": {},
     "outputs": [],
     "prompt_number": 182
    },
    {
     "cell_type": "code",
     "collapsed": false,
     "input": [
      "wr.lower()"
     ],
     "language": "python",
     "metadata": {},
     "outputs": [
      {
       "output_type": "pyout",
       "prompt_number": 183,
       "text": [
        "'hi there dude'"
       ]
      }
     ],
     "prompt_number": 183
    },
    {
     "cell_type": "code",
     "collapsed": false,
     "input": [
      "dir(wr)"
     ],
     "language": "python",
     "metadata": {},
     "outputs": [
      {
       "output_type": "pyout",
       "prompt_number": 184,
       "text": [
        "['__add__',\n",
        " '__class__',\n",
        " '__contains__',\n",
        " '__delattr__',\n",
        " '__doc__',\n",
        " '__eq__',\n",
        " '__format__',\n",
        " '__ge__',\n",
        " '__getattribute__',\n",
        " '__getitem__',\n",
        " '__getnewargs__',\n",
        " '__getslice__',\n",
        " '__gt__',\n",
        " '__hash__',\n",
        " '__init__',\n",
        " '__le__',\n",
        " '__len__',\n",
        " '__lt__',\n",
        " '__mod__',\n",
        " '__mul__',\n",
        " '__ne__',\n",
        " '__new__',\n",
        " '__reduce__',\n",
        " '__reduce_ex__',\n",
        " '__repr__',\n",
        " '__rmod__',\n",
        " '__rmul__',\n",
        " '__setattr__',\n",
        " '__sizeof__',\n",
        " '__str__',\n",
        " '__subclasshook__',\n",
        " '_formatter_field_name_split',\n",
        " '_formatter_parser',\n",
        " 'capitalize',\n",
        " 'center',\n",
        " 'count',\n",
        " 'decode',\n",
        " 'encode',\n",
        " 'endswith',\n",
        " 'expandtabs',\n",
        " 'find',\n",
        " 'format',\n",
        " 'index',\n",
        " 'isalnum',\n",
        " 'isalpha',\n",
        " 'isdigit',\n",
        " 'islower',\n",
        " 'isspace',\n",
        " 'istitle',\n",
        " 'isupper',\n",
        " 'join',\n",
        " 'ljust',\n",
        " 'lower',\n",
        " 'lstrip',\n",
        " 'partition',\n",
        " 'replace',\n",
        " 'rfind',\n",
        " 'rindex',\n",
        " 'rjust',\n",
        " 'rpartition',\n",
        " 'rsplit',\n",
        " 'rstrip',\n",
        " 'split',\n",
        " 'splitlines',\n",
        " 'startswith',\n",
        " 'strip',\n",
        " 'swapcase',\n",
        " 'title',\n",
        " 'translate',\n",
        " 'upper',\n",
        " 'zfill']"
       ]
      }
     ],
     "prompt_number": 184
    },
    {
     "cell_type": "code",
     "collapsed": false,
     "input": [
      "help(str.rfind)"
     ],
     "language": "python",
     "metadata": {},
     "outputs": [
      {
       "output_type": "stream",
       "stream": "stdout",
       "text": [
        "Help on method_descriptor:\n",
        "\n",
        "rfind(...)\n",
        "    S.rfind(sub [,start [,end]]) -> int\n",
        "    \n",
        "    Return the highest index in S where substring sub is found,\n",
        "    such that sub is contained within S[start:end].  Optional\n",
        "    arguments start and end are interpreted as in slice notation.\n",
        "    \n",
        "    Return -1 on failure.\n",
        "\n"
       ]
      }
     ],
     "prompt_number": 185
    },
    {
     "cell_type": "code",
     "collapsed": false,
     "input": [
      "help(str.strip)"
     ],
     "language": "python",
     "metadata": {},
     "outputs": [
      {
       "output_type": "stream",
       "stream": "stdout",
       "text": [
        "Help on method_descriptor:\n",
        "\n",
        "strip(...)\n",
        "    S.strip([chars]) -> string or unicode\n",
        "    \n",
        "    Return a copy of the string S with leading and trailing\n",
        "    whitespace removed.\n",
        "    If chars is given and not None, remove characters in chars instead.\n",
        "    If chars is unicode, S will be converted to unicode before stripping\n",
        "\n"
       ]
      }
     ],
     "prompt_number": 186
    },
    {
     "cell_type": "code",
     "collapsed": false,
     "input": [
      "wr.capitalize()"
     ],
     "language": "python",
     "metadata": {},
     "outputs": [
      {
       "output_type": "pyout",
       "prompt_number": 187,
       "text": [
        "'Hi there dude'"
       ]
      }
     ],
     "prompt_number": 187
    },
    {
     "cell_type": "code",
     "collapsed": false,
     "input": [
      "def letter_by_letter(wr):\n",
      "    for char in wr:\n",
      "        print char\n",
      "        print char"
     ],
     "language": "python",
     "metadata": {},
     "outputs": [],
     "prompt_number": 188
    },
    {
     "cell_type": "code",
     "collapsed": false,
     "input": [
      "letter_by_letter('abc')"
     ],
     "language": "python",
     "metadata": {},
     "outputs": [
      {
       "output_type": "stream",
       "stream": "stdout",
       "text": [
        "a\n",
        "a\n",
        "b\n",
        "b\n",
        "c\n",
        "c\n"
       ]
      }
     ],
     "prompt_number": 189
    },
    {
     "cell_type": "code",
     "collapsed": false,
     "input": [
      "def count_vowels(string):\n",
      "    running_sum = 0\n",
      "    for char in string.lower():\n",
      "        if char in 'aeiou':\n",
      "            running_sum = running_sum + 1\n",
      "            \n",
      "    return running_sum"
     ],
     "language": "python",
     "metadata": {},
     "outputs": [],
     "prompt_number": 190
    },
    {
     "cell_type": "code",
     "collapsed": false,
     "input": [
      "count_vowels('abA')"
     ],
     "language": "python",
     "metadata": {},
     "outputs": [
      {
       "output_type": "pyout",
       "prompt_number": 191,
       "text": [
        "2"
       ]
      }
     ],
     "prompt_number": 191
    },
    {
     "cell_type": "code",
     "collapsed": false,
     "input": [
      "grades = [50, 60, 75]"
     ],
     "language": "python",
     "metadata": {},
     "outputs": [],
     "prompt_number": 192
    },
    {
     "cell_type": "code",
     "collapsed": false,
     "input": [
      "grades[0] # this is a value"
     ],
     "language": "python",
     "metadata": {},
     "outputs": [
      {
       "output_type": "pyout",
       "prompt_number": 193,
       "text": [
        "50"
       ]
      }
     ],
     "prompt_number": 193
    },
    {
     "cell_type": "code",
     "collapsed": false,
     "input": [
      "grades[0:1] # this is a list"
     ],
     "language": "python",
     "metadata": {},
     "outputs": [
      {
       "output_type": "pyout",
       "prompt_number": 194,
       "text": [
        "[50]"
       ]
      }
     ],
     "prompt_number": 194
    },
    {
     "cell_type": "code",
     "collapsed": false,
     "input": [
      "max(grades)"
     ],
     "language": "python",
     "metadata": {},
     "outputs": [
      {
       "output_type": "pyout",
       "prompt_number": 195,
       "text": [
        "75"
       ]
      }
     ],
     "prompt_number": 195
    },
    {
     "cell_type": "code",
     "collapsed": false,
     "input": [
      "students = ['Bob', 'Harry', 'Gilford']"
     ],
     "language": "python",
     "metadata": {},
     "outputs": [],
     "prompt_number": 203
    },
    {
     "cell_type": "code",
     "collapsed": false,
     "input": [
      "max(students)"
     ],
     "language": "python",
     "metadata": {},
     "outputs": [
      {
       "output_type": "pyout",
       "prompt_number": 204,
       "text": [
        "'Harry'"
       ]
      }
     ],
     "prompt_number": 204
    },
    {
     "cell_type": "code",
     "collapsed": false,
     "input": [
      "float(sum(grades)) / float(len(grades))"
     ],
     "language": "python",
     "metadata": {},
     "outputs": [
      {
       "output_type": "pyout",
       "prompt_number": 202,
       "text": [
        "61.666666666666664"
       ]
      }
     ],
     "prompt_number": 202
    },
    {
     "cell_type": "code",
     "collapsed": false,
     "input": [
      "grades.append(75)"
     ],
     "language": "python",
     "metadata": {},
     "outputs": [],
     "prompt_number": 200
    },
    {
     "cell_type": "code",
     "collapsed": false,
     "input": [
      "def wow(mylist):\n",
      "    collect = ''\n",
      "    for string in mylist:\n",
      "        collect = collect + ' ' + string\n",
      "        \n",
      "    return collect.lstrip()"
     ],
     "language": "python",
     "metadata": {},
     "outputs": [],
     "prompt_number": 211
    },
    {
     "cell_type": "code",
     "collapsed": false,
     "input": [
      "wow(students)"
     ],
     "language": "python",
     "metadata": {},
     "outputs": [
      {
       "output_type": "pyout",
       "prompt_number": 212,
       "text": [
        "'Bob Harry Gilford'"
       ]
      }
     ],
     "prompt_number": 212
    },
    {
     "cell_type": "code",
     "collapsed": false,
     "input": [
      "students.sort()\n",
      "wow(students)"
     ],
     "language": "python",
     "metadata": {},
     "outputs": [
      {
       "output_type": "pyout",
       "prompt_number": 216,
       "text": [
        "'Bob Gilford Harry'"
       ]
      }
     ],
     "prompt_number": 216
    },
    {
     "cell_type": "code",
     "collapsed": false,
     "input": [
      "class Wallet:\n",
      "    def __init__(self, owner):\n",
      "        self.cash = 0\n",
      "        self.owner = owner\n",
      "    \n",
      "    def addCash(self, amount):\n",
      "        self.cash = self.cash + amount\n",
      "        \n",
      "    def printWallet(self):\n",
      "        print \"Wallet belongs to {}, and has {}$\".format(self.owner, str(self.cash))\n",
      "        \n",
      "        "
     ],
     "language": "python",
     "metadata": {},
     "outputs": [],
     "prompt_number": 31
    },
    {
     "cell_type": "code",
     "collapsed": false,
     "input": [
      "w = Wallet(\"Bob\")\n",
      "w.printWallet()"
     ],
     "language": "python",
     "metadata": {},
     "outputs": [
      {
       "output_type": "stream",
       "stream": "stdout",
       "text": [
        "Wallet belongs to Bob, and has 0$\n"
       ]
      }
     ],
     "prompt_number": 32
    },
    {
     "cell_type": "code",
     "collapsed": false,
     "input": [
      "w.addCash(10)\n",
      "w.printWallet()"
     ],
     "language": "python",
     "metadata": {},
     "outputs": [
      {
       "output_type": "stream",
       "stream": "stdout",
       "text": [
        "Wallet belongs to Bob, and has 10$\n"
       ]
      }
     ],
     "prompt_number": 33
    },
    {
     "cell_type": "code",
     "collapsed": false,
     "input": [
      "help(range)"
     ],
     "language": "python",
     "metadata": {},
     "outputs": [
      {
       "output_type": "stream",
       "stream": "stdout",
       "text": [
        "Help on built-in function range in module __builtin__:\n",
        "\n",
        "range(...)\n",
        "    range(stop) -> list of integers\n",
        "    range(start, stop[, step]) -> list of integers\n",
        "    \n",
        "    Return a list containing an arithmetic progression of integers.\n",
        "    range(i, j) returns [i, i+1, i+2, ..., j-1]; start (!) defaults to 0.\n",
        "    When step is given, it specifies the increment (or decrement).\n",
        "    For example, range(4) returns [0, 1, 2, 3].  The end point is omitted!\n",
        "    These are exactly the valid indices for a list of 4 elements.\n",
        "\n"
       ]
      }
     ],
     "prompt_number": 34
    },
    {
     "cell_type": "code",
     "collapsed": false,
     "input": [
      "range(1,"
     ],
     "language": "python",
     "metadata": {},
     "outputs": [
      {
       "output_type": "pyout",
       "prompt_number": 36,
       "text": [
        "[1, 4, 7]"
       ]
      }
     ],
     "prompt_number": 36
    },
    {
     "cell_type": "code",
     "collapsed": false,
     "input": [
      "help(repr)"
     ],
     "language": "python",
     "metadata": {},
     "outputs": [
      {
       "output_type": "stream",
       "stream": "stdout",
       "text": [
        "Help on built-in function repr in module __builtin__:\n",
        "\n",
        "repr(...)\n",
        "    repr(object) -> string\n",
        "    \n",
        "    Return the canonical string representation of the object.\n",
        "    For most object types, eval(repr(object)) == object.\n",
        "\n"
       ]
      }
     ],
     "prompt_number": 27
    },
    {
     "cell_type": "code",
     "collapsed": false,
     "input": [
      "repr(w)"
     ],
     "language": "python",
     "metadata": {},
     "outputs": [
      {
       "output_type": "pyout",
       "prompt_number": 28,
       "text": [
        "'<__main__.Wallet instance at 0x900568c>'"
       ]
      }
     ],
     "prompt_number": 28
    },
    {
     "cell_type": "code",
     "collapsed": false,
     "input": [
      "repr(3)"
     ],
     "language": "python",
     "metadata": {},
     "outputs": [
      {
       "output_type": "pyout",
       "prompt_number": 29,
       "text": [
        "'3'"
       ]
      }
     ],
     "prompt_number": 29
    },
    {
     "cell_type": "code",
     "collapsed": false,
     "input": [
      "repr('3')"
     ],
     "language": "python",
     "metadata": {},
     "outputs": [
      {
       "output_type": "pyout",
       "prompt_number": 30,
       "text": [
        "\"'3'\""
       ]
      }
     ],
     "prompt_number": 30
    },
    {
     "cell_type": "code",
     "collapsed": false,
     "input": [
      "import json"
     ],
     "language": "python",
     "metadata": {},
     "outputs": [],
     "prompt_number": 39
    },
    {
     "cell_type": "code",
     "collapsed": false,
     "input": [
      "json.dumps(['a'])"
     ],
     "language": "python",
     "metadata": {},
     "outputs": [
      {
       "output_type": "pyout",
       "prompt_number": 40,
       "text": [
        "'[\"a\"]'"
       ]
      }
     ],
     "prompt_number": 40
    },
    {
     "cell_type": "code",
     "collapsed": false,
     "input": [
      "print \"I'm the worst developer {}\".format(\"ever\")"
     ],
     "language": "python",
     "metadata": {},
     "outputs": [
      {
       "output_type": "stream",
       "stream": "stdout",
       "text": [
        "I'm the worst developer ever\n"
       ]
      }
     ],
     "prompt_number": 1
    },
    {
     "cell_type": "code",
     "collapsed": false,
     "input": [
      "import urllib"
     ],
     "language": "python",
     "metadata": {},
     "outputs": [],
     "prompt_number": 1
    },
    {
     "cell_type": "code",
     "collapsed": false,
     "input": [
      "f = urllib.urlopen(\"http://www.gutenberg.org/ebooks/3420.txt.utf-8\")"
     ],
     "language": "python",
     "metadata": {},
     "outputs": [],
     "prompt_number": 2
    },
    {
     "cell_type": "code",
     "collapsed": false,
     "input": [
      "book_text = f.read().decode('utf-8')"
     ],
     "language": "python",
     "metadata": {},
     "outputs": [],
     "prompt_number": 3
    },
    {
     "cell_type": "code",
     "collapsed": false,
     "input": [
      "book_text = book_text.replace(\"\\r\",\"\")"
     ],
     "language": "python",
     "metadata": {},
     "outputs": [],
     "prompt_number": 4
    },
    {
     "cell_type": "code",
     "collapsed": false,
     "input": [
      "print book_text[14000:15000]"
     ],
     "language": "python",
     "metadata": {},
     "outputs": [
      {
       "output_type": "stream",
       "stream": "stdout",
       "text": [
        " that can be freely distributed\n",
        "in machine readable form.\n",
        "\n",
        "The Project gratefully accepts contributions of money, time,\n",
        "public domain materials, or royalty free copyright licenses.\n",
        "Money should be paid to the:\n",
        "\"Project Gutenberg Literary Archive Foundation.\"\n",
        "\n",
        "If you are interested in contributing scanning equipment or\n",
        "software or other items, please contact Michael Hart at:\n",
        "hart@pobox.com\n",
        "\n",
        "*END THE SMALL PRINT! FOR PUBLIC DOMAIN ETEXTS*Ver.12.12.00*END*\n",
        "\n",
        "\n",
        "\n",
        "\n",
        "\n",
        "This etext was produced by\n",
        "Amy E Zelmer  <a.zelmer@cqu.edu.au>\n",
        "Col Choat  <CChoat@sanderson.net.au>\n",
        "Sue Asscher  <asschers@dingoblue.net.au>\n",
        "\n",
        "\n",
        "\n",
        "\n",
        "\n",
        "A VINDICATION OF THE RIGHTS OF WOMAN,\n",
        "WITH STRICTURES ON POLITICAL AND MORAL SUBJECTS,\n",
        "BY MARY WOLLSTONECRAFT.\n",
        "\n",
        "WITH A BIOGRAPHICAL SKETCH OF THE AUTHOR.\n",
        "\n",
        "\n",
        "\n",
        "\n",
        "CONTENTS.\n",
        "\n",
        "\n",
        "INTRODUCTION.\n",
        "\n",
        "CHAPTER 1.  THE RIGHTS AND INVOLVED DUTIES OF MANKIND CONSIDERED.\n",
        "\n",
        "CHAPTER 2.  THE PREVAILING OPINION OF A SEXUAL CHARACTER DISCUSSED.\n",
        "\n",
        "CHAPTER 3.  THE SAME SUBJECT CONTINUED.\n",
        "\n",
        "CHAPTER 4.  OBSERVATIONS ON T\n"
       ]
      }
     ],
     "prompt_number": 12
    },
    {
     "cell_type": "code",
     "collapsed": false,
     "input": [
      "import re"
     ],
     "language": "python",
     "metadata": {},
     "outputs": [],
     "prompt_number": 8
    },
    {
     "cell_type": "code",
     "collapsed": false,
     "input": [
      "re.UNICODE = True\n",
      "re.DOTALL = True"
     ],
     "language": "python",
     "metadata": {},
     "outputs": [],
     "prompt_number": 10
    },
    {
     "cell_type": "code",
     "collapsed": false,
     "input": [
      "book_text = re.split(\"\\*END THE SMALL PRINT! FOR PUBLIC DOMAIN ETEXTS\\*.*\", book_text)[1]"
     ],
     "language": "python",
     "metadata": {},
     "outputs": [],
     "prompt_number": 13
    },
    {
     "cell_type": "code",
     "collapsed": false,
     "input": [
      "len(book_text)"
     ],
     "language": "python",
     "metadata": {},
     "outputs": [
      {
       "output_type": "pyout",
       "prompt_number": 14,
       "text": [
        "509270"
       ]
      }
     ],
     "prompt_number": 14
    },
    {
     "cell_type": "code",
     "collapsed": false,
     "input": [
      "print book_text[:500]\n",
      "print \"[...]\"\n",
      "print book_text[-150:]"
     ],
     "language": "python",
     "metadata": {},
     "outputs": [
      {
       "output_type": "stream",
       "stream": "stdout",
       "text": [
        "This etext was produced by\n",
        "Amy E Zelmer  <a.zelmer@cqu.edu.au>\n",
        "Col Choat  <CChoat@sanderson.net.au>\n",
        "Sue Asscher  <asschers@dingoblue.net.au>\n",
        "\n",
        "\n",
        "\n",
        "\n",
        "\n",
        "A VINDICATION OF THE RIGHTS OF WOMAN,\n",
        "WITH STRICTURES ON POLITICAL AND MORAL SUBJECTS,\n",
        "BY MARY WOLLSTONECRAFT.\n",
        "\n",
        "WITH A BIOGRAPHICAL SKETCH OF THE AUTHOR.\n",
        "\n",
        "\n",
        "\n",
        "\n",
        "CONTENTS.\n",
        "\n",
        "\n",
        "INTRODUCTION.\n",
        "\n",
        "CHAPTER 1.  THE RIGHTS AND INVOLVED DUTIES OF MANKIND CONSIDERED.\n",
        "\n",
        "CHAPTER 2.  THE PREVAILING OPINION OF A SEXUAL CHARACTER DISCUSSED.\n",
        "\n",
        "CHAPTER 3.  THE SAME SUBJECT CONT\n",
        "[...]\n",
        "sk-masters, expecting virtue where nature has\n",
        "not given understanding!\n",
        "\n",
        "\n",
        "\n",
        "\n",
        "\n",
        "End of The Project Gutenberg Etext of A Vindication of the Rights of Woman\n"
       ]
      }
     ],
     "prompt_number": 23
    },
    {
     "cell_type": "code",
     "collapsed": false,
     "input": [
      "book_text = book_text.strip()"
     ],
     "language": "python",
     "metadata": {},
     "outputs": [],
     "prompt_number": 18
    },
    {
     "cell_type": "code",
     "collapsed": false,
     "input": [
      "help(re.sub)"
     ],
     "language": "python",
     "metadata": {},
     "outputs": [
      {
       "output_type": "stream",
       "stream": "stdout",
       "text": [
        "Help on function sub in module re:\n",
        "\n",
        "sub(pattern, repl, string, count=0, flags=0)\n",
        "    Return the string obtained by replacing the leftmost\n",
        "    non-overlapping occurrences of the pattern in string by the\n",
        "    replacement repl.  repl can be either a string or a callable;\n",
        "    if a string, backslash escapes in it are processed.  If it is\n",
        "    a callable, it's passed the match object and must return\n",
        "    a replacement string to be used.\n",
        "\n"
       ]
      }
     ],
     "prompt_number": 22
    },
    {
     "cell_type": "code",
     "collapsed": false,
     "input": [
      "book_text = re.sub(\"This etext was produced by(?:\\n.+)*\\n*?\", \"\", book_text)"
     ],
     "language": "python",
     "metadata": {},
     "outputs": [],
     "prompt_number": 24
    },
    {
     "cell_type": "code",
     "collapsed": false,
     "input": [
      "book_text = re.sub(\"\\n.*$\", \"\", book_text)"
     ],
     "language": "python",
     "metadata": {},
     "outputs": [],
     "prompt_number": 26
    },
    {
     "cell_type": "code",
     "collapsed": false,
     "input": [
      "book_text = book_text.strip()"
     ],
     "language": "python",
     "metadata": {},
     "outputs": [],
     "prompt_number": 27
    },
    {
     "cell_type": "code",
     "collapsed": false,
     "input": [
      "print book_text[:100]\n",
      "print \"[...]\"\n",
      "print book_text[-100:]"
     ],
     "language": "python",
     "metadata": {},
     "outputs": [
      {
       "output_type": "stream",
       "stream": "stdout",
       "text": [
        "A VINDICATION OF THE RIGHTS OF WOMAN,\n",
        "WITH STRICTURES ON POLITICAL AND MORAL SUBJECTS,\n",
        "BY MARY WOLLS\n",
        "[...]\n",
        "will be\n",
        "worse than Egyptian task-masters, expecting virtue where nature has\n",
        "not given understanding!\n"
       ]
      }
     ],
     "prompt_number": 29
    },
    {
     "cell_type": "code",
     "collapsed": false,
     "input": [
      "book_text = book_text.lower()\n",
      "book_text = re.sub(\"[^\\w\\s]\", \"\", book_text)"
     ],
     "language": "python",
     "metadata": {},
     "outputs": [],
     "prompt_number": 31
    },
    {
     "cell_type": "code",
     "collapsed": false,
     "input": [
      "words = re.split(\"[\\s]+\", book_text)"
     ],
     "language": "python",
     "metadata": {},
     "outputs": [],
     "prompt_number": 32
    },
    {
     "cell_type": "code",
     "collapsed": false,
     "input": [
      "len(words)"
     ],
     "language": "python",
     "metadata": {},
     "outputs": [
      {
       "output_type": "pyout",
       "prompt_number": 33,
       "text": [
        "86446"
       ]
      }
     ],
     "prompt_number": 33
    },
    {
     "cell_type": "code",
     "collapsed": false,
     "input": [
      "f = urllib.urlopen(\"http://louis.philotech.org/confs/MtlPythonEn2014/corpus/stoplist.en.utf-8.txt\")\n",
      "stoplist = f.read().decode('utf-8').split(\"\\n\")"
     ],
     "language": "python",
     "metadata": {},
     "outputs": [],
     "prompt_number": 34
    },
    {
     "cell_type": "code",
     "collapsed": false,
     "input": [
      "len(stoplist)"
     ],
     "language": "python",
     "metadata": {},
     "outputs": [
      {
       "output_type": "pyout",
       "prompt_number": 35,
       "text": [
        "562"
       ]
      }
     ],
     "prompt_number": 35
    },
    {
     "cell_type": "code",
     "collapsed": false,
     "input": [
      "stoplist[:50]"
     ],
     "language": "python",
     "metadata": {},
     "outputs": [
      {
       "output_type": "pyout",
       "prompt_number": 36,
       "text": [
        "[u'a',\n",
        " u'aboard',\n",
        " u'about',\n",
        " u'above',\n",
        " u'across',\n",
        " u'after',\n",
        " u'again',\n",
        " u'against',\n",
        " u'all',\n",
        " u'almost',\n",
        " u'alone',\n",
        " u'along',\n",
        " u'alongside',\n",
        " u'already',\n",
        " u'also',\n",
        " u'although',\n",
        " u'always',\n",
        " u'am',\n",
        " u'amid',\n",
        " u'amidst',\n",
        " u'among',\n",
        " u'amongst',\n",
        " u'an',\n",
        " u'and',\n",
        " u'another',\n",
        " u'anti',\n",
        " u'any',\n",
        " u'anybody',\n",
        " u'anyone',\n",
        " u'anything',\n",
        " u'anywhere',\n",
        " u'are',\n",
        " u'area',\n",
        " u'areas',\n",
        " u\"aren't\",\n",
        " u'around',\n",
        " u'as',\n",
        " u'ask',\n",
        " u'asked',\n",
        " u'asking',\n",
        " u'asks',\n",
        " u'astride',\n",
        " u'at',\n",
        " u'aught',\n",
        " u'away',\n",
        " u'back',\n",
        " u'backed',\n",
        " u'backing',\n",
        " u'backs',\n",
        " u'bar']"
       ]
      }
     ],
     "prompt_number": 36
    },
    {
     "cell_type": "code",
     "collapsed": false,
     "input": [
      "words = [ w for w in words if len(w) > 1 and w.isalpha() ]\n",
      "words = [ w for w in words if w not in stoplist ] \n",
      "len(words)"
     ],
     "language": "python",
     "metadata": {},
     "outputs": [
      {
       "output_type": "pyout",
       "prompt_number": 37,
       "text": [
        "34244"
       ]
      }
     ],
     "prompt_number": 37
    },
    {
     "cell_type": "code",
     "collapsed": false,
     "input": [
      "help(xrange)"
     ],
     "language": "python",
     "metadata": {},
     "outputs": [
      {
       "output_type": "stream",
       "stream": "stdout",
       "text": [
        "Help on class xrange in module __builtin__:\n",
        "\n",
        "class xrange(object)\n",
        " |  xrange(stop) -> xrange object\n",
        " |  xrange(start, stop[, step]) -> xrange object\n",
        " |  \n",
        " |  Like range(), but instead of returning a list, returns an object that\n",
        " |  generates the numbers in the range on demand.  For looping, this is \n",
        " |  slightly faster than range() and more memory efficient.\n",
        " |  \n",
        " |  Methods defined here:\n",
        " |  \n",
        " |  __getattribute__(...)\n",
        " |      x.__getattribute__('name') <==> x.name\n",
        " |  \n",
        " |  __getitem__(...)\n",
        " |      x.__getitem__(y) <==> x[y]\n",
        " |  \n",
        " |  __iter__(...)\n",
        " |      x.__iter__() <==> iter(x)\n",
        " |  \n",
        " |  __len__(...)\n",
        " |      x.__len__() <==> len(x)\n",
        " |  \n",
        " |  __reduce__(...)\n",
        " |  \n",
        " |  __repr__(...)\n",
        " |      x.__repr__() <==> repr(x)\n",
        " |  \n",
        " |  __reversed__(...)\n",
        " |      Returns a reverse iterator.\n",
        " |  \n",
        " |  ----------------------------------------------------------------------\n",
        " |  Data and other attributes defined here:\n",
        " |  \n",
        " |  __new__ = <built-in method __new__ of type object>\n",
        " |      T.__new__(S, ...) -> a new object with type S, a subtype of T\n",
        "\n"
       ]
      }
     ],
     "prompt_number": 38
    },
    {
     "cell_type": "code",
     "collapsed": false,
     "input": [
      "t = 50\n",
      "words_seg = [ words[i:i+t] for i in xrange(0, len(words), t) ]"
     ],
     "language": "python",
     "metadata": {},
     "outputs": [],
     "prompt_number": 39
    },
    {
     "cell_type": "code",
     "collapsed": false,
     "input": [
      "len(words_seg)"
     ],
     "language": "python",
     "metadata": {},
     "outputs": [
      {
       "output_type": "pyout",
       "prompt_number": 40,
       "text": [
        "685"
       ]
      }
     ],
     "prompt_number": 40
    },
    {
     "cell_type": "code",
     "collapsed": false,
     "input": [
      "print words_seg[0]"
     ],
     "language": "python",
     "metadata": {},
     "outputs": [
      {
       "output_type": "stream",
       "stream": "stdout",
       "text": [
        "[u'vindication', u'rights', u'woman', u'strictures', u'political', u'moral', u'subjects', u'mary', u'wollstonecraft', u'biographical', u'sketch', u'author', u'contents', u'introduction', u'chapter', u'rights', u'involved', u'duties', u'mankind', u'considered', u'chapter', u'prevailing', u'opinion', u'sexual', u'character', u'discussed', u'chapter', u'subject', u'continued', u'chapter', u'observations', u'degradation', u'woman', u'reduced', u'causes', u'chapter', u'animadversions', u'writers', u'rendered', u'women', u'objects', u'pity', u'bordering', u'contempt', u'chapter', u'effect', u'association', u'ideas', u'character', u'chapter']\n"
       ]
      }
     ],
     "prompt_number": 41
    },
    {
     "cell_type": "raw",
     "metadata": {},
     "source": [
      "Stopped at section 2.3\n",
      "http://nbviewer.ipython.org/url/louis.philotech.org/confs/MtlPythonEn2014/MtlPythonEn2014.ipynb"
     ]
    },
    {
     "cell_type": "code",
     "collapsed": false,
     "input": [],
     "language": "python",
     "metadata": {},
     "outputs": []
    }
   ],
   "metadata": {}
  }
 ]
}